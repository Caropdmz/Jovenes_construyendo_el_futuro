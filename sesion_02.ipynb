{
  "nbformat": 4,
  "nbformat_minor": 0,
  "metadata": {
    "colab": {
      "provenance": []
    },
    "kernelspec": {
      "name": "python3",
      "display_name": "Python 3"
    },
    "language_info": {
      "name": "python"
    }
  },
  "cells": [
    {
      "cell_type": "code",
      "execution_count": 12,
      "metadata": {
        "colab": {
          "base_uri": "https://localhost:8080/"
        },
        "id": "EwjJZVI2gZlI",
        "outputId": "ca9465c9-dbd5-4448-f18f-fd41c99c3bd8"
      },
      "outputs": [
        {
          "output_type": "stream",
          "name": "stdout",
          "text": [
            "El valor de i es 0\n",
            "El valor de i es 1\n",
            "El valor de i es 2\n",
            "El valor de i es 3\n",
            "El valor de i es 4\n",
            "El valor de i es 5\n",
            "El valor de i es 6\n",
            "El valor de i es 7\n",
            "El valor de i es 8\n",
            "El valor de i es 9\n"
          ]
        }
      ],
      "source": [
        "#Miercoles 05 octubre 2022\n",
        "#for, range(), while\n",
        "\n",
        "#sentencia for\n",
        "\n",
        "for i in range(10):\n",
        "  print(\"El valor de i es\",i)"
      ]
    },
    {
      "cell_type": "code",
      "source": [
        "for valor in range(5):\n",
        "  print(\"El valor de j es\",valor)"
      ],
      "metadata": {
        "colab": {
          "base_uri": "https://localhost:8080/"
        },
        "id": "b2kcPhqkjPkb",
        "outputId": "b90eee67-74e0-424e-cb7c-860689cfb45b"
      },
      "execution_count": 15,
      "outputs": [
        {
          "output_type": "stream",
          "name": "stdout",
          "text": [
            "El valor de j es 0\n",
            "El valor de j es 1\n",
            "El valor de j es 2\n",
            "El valor de j es 3\n",
            "El valor de j es 4\n"
          ]
        }
      ]
    },
    {
      "cell_type": "code",
      "source": [
        "#suma de todos los numeros del 0 al 100\n",
        "suma =0\n",
        "for i in range(100):\n",
        "  #print(i+1)\n",
        "  suma= suma+(i+1) #\n",
        "print(suma)"
      ],
      "metadata": {
        "colab": {
          "base_uri": "https://localhost:8080/"
        },
        "id": "GsG-2Jtqkzeg",
        "outputId": "d56d69e9-5ef0-4ec4-d669-9a31c7f2f47e"
      },
      "execution_count": 23,
      "outputs": [
        {
          "output_type": "stream",
          "name": "stdout",
          "text": [
            "5050\n"
          ]
        }
      ]
    },
    {
      "cell_type": "code",
      "source": [
        "for i in range(5,10):\n",
        "  print(i)"
      ],
      "metadata": {
        "colab": {
          "base_uri": "https://localhost:8080/"
        },
        "id": "ZYuBVGRHn8bG",
        "outputId": "938f38f4-b98d-4cda-dc5d-1edce69cbca3"
      },
      "execution_count": 28,
      "outputs": [
        {
          "output_type": "stream",
          "name": "stdout",
          "text": [
            "5\n",
            "6\n",
            "7\n",
            "8\n",
            "9\n"
          ]
        }
      ]
    },
    {
      "cell_type": "code",
      "source": [
        "for i in range(10,16):\n",
        "  print(i)"
      ],
      "metadata": {
        "colab": {
          "base_uri": "https://localhost:8080/"
        },
        "id": "kjhwAK53oner",
        "outputId": "349775e6-cdc8-48e4-f5c1-1c318f7f089a"
      },
      "execution_count": 29,
      "outputs": [
        {
          "output_type": "stream",
          "name": "stdout",
          "text": [
            "10\n",
            "11\n",
            "12\n",
            "13\n",
            "14\n",
            "15\n"
          ]
        }
      ]
    },
    {
      "cell_type": "code",
      "source": [
        "#el tercer parametro dice de cuantos en cuantos va. \n",
        "for i in range(0,21,2): # da la cuenta de 2 en 2\n",
        "  print(i)"
      ],
      "metadata": {
        "colab": {
          "base_uri": "https://localhost:8080/"
        },
        "id": "UGlIjO_vo-8F",
        "outputId": "3214aacf-01f3-41ef-ceef-f05faaab9b8e"
      },
      "execution_count": 36,
      "outputs": [
        {
          "output_type": "stream",
          "name": "stdout",
          "text": [
            "0\n",
            "2\n",
            "4\n",
            "6\n",
            "8\n",
            "10\n",
            "12\n",
            "14\n",
            "16\n",
            "18\n",
            "20\n"
          ]
        }
      ]
    },
    {
      "cell_type": "code",
      "source": [
        "suma =0\n",
        "for i in range(100,201):\n",
        "  suma = suma+ i\n",
        "print(suma)"
      ],
      "metadata": {
        "colab": {
          "base_uri": "https://localhost:8080/"
        },
        "id": "EioNS0WAqHUc",
        "outputId": "0d42bf82-3614-4e19-f2ee-7b6acdb9d88a"
      },
      "execution_count": 38,
      "outputs": [
        {
          "output_type": "stream",
          "name": "stdout",
          "text": [
            "15150\n"
          ]
        }
      ]
    },
    {
      "cell_type": "code",
      "source": [
        "#programa pide el limite superior para realizar la suma desde 0\n",
        "#y hasta llegar al limite superior\n",
        "\n",
        "lim_sup = int(input (\"Limite superior: \"))\n",
        "#lim_inf = int(input (\"Limite inferior: \"))\n",
        "suma=0\n",
        "\n",
        "for i in range(lim_sup):\n",
        "#for i in range(lim_inf,lim_sup):\n",
        "  #suma += i\n",
        "  suma= suma+(i+1)\n",
        "print(suma)"
      ],
      "metadata": {
        "colab": {
          "base_uri": "https://localhost:8080/"
        },
        "id": "mPDmq3Njqnsq",
        "outputId": "b337120e-27d1-4f23-f02e-dfe120404c46"
      },
      "execution_count": 43,
      "outputs": [
        {
          "output_type": "stream",
          "name": "stdout",
          "text": [
            "Limite superior: 100\n",
            "5050\n"
          ]
        }
      ]
    },
    {
      "cell_type": "code",
      "source": [
        "9/4 #division con flotante"
      ],
      "metadata": {
        "colab": {
          "base_uri": "https://localhost:8080/"
        },
        "id": "CAncpcxJuplH",
        "outputId": "afae8510-ab62-4ca6-a83d-6f74dff45691"
      },
      "execution_count": 44,
      "outputs": [
        {
          "output_type": "execute_result",
          "data": {
            "text/plain": [
              "2.25"
            ]
          },
          "metadata": {},
          "execution_count": 44
        }
      ]
    },
    {
      "cell_type": "code",
      "source": [
        "9//4 #division entera"
      ],
      "metadata": {
        "colab": {
          "base_uri": "https://localhost:8080/"
        },
        "id": "F-Wu4ny8u2qo",
        "outputId": "b590f1e1-649d-4441-f5f0-14251340f05c"
      },
      "execution_count": 45,
      "outputs": [
        {
          "output_type": "execute_result",
          "data": {
            "text/plain": [
              "2"
            ]
          },
          "metadata": {},
          "execution_count": 45
        }
      ]
    },
    {
      "cell_type": "code",
      "source": [
        "print(9%4) #modulo o residuo de la division\n",
        "print(9%5)"
      ],
      "metadata": {
        "colab": {
          "base_uri": "https://localhost:8080/"
        },
        "id": "3sl5NEU0u9Hh",
        "outputId": "bcd03acf-d700-418f-898d-a803cc1788b7"
      },
      "execution_count": 49,
      "outputs": [
        {
          "output_type": "stream",
          "name": "stdout",
          "text": [
            "1\n",
            "4\n"
          ]
        }
      ]
    },
    {
      "cell_type": "code",
      "source": [
        "print(\"Este programa suma num pares\")\n",
        "print(\"En un rango desde 1 hasta el que nos diga\")\n",
        "print(\"El usuario\")\n",
        "lim_sup = int(input (\"Limite superior: \"))\n",
        "suma=0\n",
        "\n",
        "\n",
        "for i in range(1,lim_sup+1):\n",
        "  if i%2 == 0:\n",
        "    suma+=i\n",
        "print(suma)\n"
      ],
      "metadata": {
        "colab": {
          "base_uri": "https://localhost:8080/"
        },
        "id": "UhyXa3HBwNlD",
        "outputId": "84d43c73-384e-4ab8-b23c-cf13828918bf"
      },
      "execution_count": 58,
      "outputs": [
        {
          "output_type": "stream",
          "name": "stdout",
          "text": [
            "Este programa suma num pares\n",
            "En un rango desde 1 hasta el que nos diga\n",
            "El usuario\n",
            "Limite superior: 10\n",
            "30\n"
          ]
        }
      ]
    },
    {
      "cell_type": "code",
      "source": [
        "print(\"Este programa suma num primos\")\n",
        "print(\"En un rango desde 1 hasta el que nos diga\")\n",
        "print(\"El usuario\")\n",
        "lim_sup = int(input (\"Limite superior: \"))\n",
        "suma=0\n",
        "\n",
        "\n",
        "for i in range(1,lim_sup+1):\n",
        "  if "
      ],
      "metadata": {
        "id": "92FPrawG1L_L"
      },
      "execution_count": null,
      "outputs": []
    }
  ]
}