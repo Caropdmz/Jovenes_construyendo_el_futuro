{
  "nbformat": 4,
  "nbformat_minor": 0,
  "metadata": {
    "colab": {
      "provenance": [],
      "collapsed_sections": []
    },
    "kernelspec": {
      "name": "python3",
      "display_name": "Python 3"
    },
    "language_info": {
      "name": "python"
    }
  },
  "cells": [
    {
      "cell_type": "code",
      "execution_count": null,
      "metadata": {
        "colab": {
          "base_uri": "https://localhost:8080/"
        },
        "id": "7gl7ijAFYMX_",
        "outputId": "d5a72a41-a5f0-4164-d924-33223ea649ae"
      },
      "outputs": [
        {
          "output_type": "stream",
          "name": "stdout",
          "text": [
            "hola\n",
            "Bienvenidos\n"
          ]
        }
      ],
      "source": [
        "#Martes 04 octubre 2022\n",
        "print(\"hola\") #imprime un mensaje\n",
        "print('Bienvenidos') # \"print\" es una función nativa\n",
        "# esto es un comentario\n",
        "# un texto puede ir entre \" \" o ' \n",
        "\n",
        "#Cuando damos clik a +codigo nos abre una nueva \"celda\""
      ]
    },
    {
      "cell_type": "code",
      "source": [
        "#otra forma de mostrar texto sin usar print es con input()\n",
        "# el = es un operador para asignar.\n",
        "# las variables no pueden empezar con un número\n",
        "nombre = input(\"¿Cúal es tu nombre? \")# se asigna el resultado a la variable nombre"
      ],
      "metadata": {
        "colab": {
          "base_uri": "https://localhost:8080/"
        },
        "id": "RGuykg1kcpOi",
        "outputId": "0972b654-3fed-4703-fb8e-2d7656b98daa"
      },
      "execution_count": null,
      "outputs": [
        {
          "name": "stdout",
          "output_type": "stream",
          "text": [
            "¿Cúal es tu nombre? Carolina\n"
          ]
        }
      ]
    },
    {
      "cell_type": "code",
      "source": [
        "print(\"Hola\",nombre, \"bienvenida\") #concatenar texto con comas se agrega el espacio solo"
      ],
      "metadata": {
        "colab": {
          "base_uri": "https://localhost:8080/"
        },
        "id": "E-oa64tte4gK",
        "outputId": "b30684b7-1f45-472e-b80d-cfbf99798559"
      },
      "execution_count": null,
      "outputs": [
        {
          "output_type": "stream",
          "name": "stdout",
          "text": [
            "Hola Carolina bienvenida\n"
          ]
        }
      ]
    },
    {
      "cell_type": "code",
      "source": [
        "print(\"Hola\" +nombre+ \"Bienvenida\") #concatenar SOLO STR sin espacio vacio se usa el +"
      ],
      "metadata": {
        "colab": {
          "base_uri": "https://localhost:8080/"
        },
        "id": "ChUEC5UAf2Z8",
        "outputId": "e0100c72-0c40-426b-df00-6bb978d68520"
      },
      "execution_count": null,
      "outputs": [
        {
          "output_type": "stream",
          "name": "stdout",
          "text": [
            "HolaCarolinaBienvenida\n"
          ]
        }
      ]
    },
    {
      "cell_type": "code",
      "source": [
        "#esta función me dice que tipo de variable es \n",
        "type(nombre) # str -> string -> texto"
      ],
      "metadata": {
        "colab": {
          "base_uri": "https://localhost:8080/"
        },
        "id": "HJ7LYNbBhDSg",
        "outputId": "2afb6a4a-394e-4c6a-a29a-8b399d07b7a1"
      },
      "execution_count": null,
      "outputs": [
        {
          "output_type": "execute_result",
          "data": {
            "text/plain": [
              "str"
            ]
          },
          "metadata": {},
          "execution_count": 25
        }
      ]
    },
    {
      "cell_type": "code",
      "source": [
        "# dependiendo el tipo de variable se tiene diferente tamaño en computadora\n",
        "num= 100\n",
        "type(num) # int -> integer -> entero"
      ],
      "metadata": {
        "colab": {
          "base_uri": "https://localhost:8080/"
        },
        "id": "MMdO5bCriPFS",
        "outputId": "a9fc4553-30a5-42fe-a656-0ead12148adc"
      },
      "execution_count": null,
      "outputs": [
        {
          "output_type": "execute_result",
          "data": {
            "text/plain": [
              "int"
            ]
          },
          "metadata": {},
          "execution_count": 29
        }
      ]
    },
    {
      "cell_type": "code",
      "source": [
        "decimal = 3.1416 # float -> núm. decimal o flotante\n",
        "type(decimal)"
      ],
      "metadata": {
        "colab": {
          "base_uri": "https://localhost:8080/"
        },
        "id": "qTqOMD_9jteU",
        "outputId": "fe736b72-bc3e-482d-da8c-6bc38db97923"
      },
      "execution_count": null,
      "outputs": [
        {
          "output_type": "execute_result",
          "data": {
            "text/plain": [
              "float"
            ]
          },
          "metadata": {},
          "execution_count": 31
        }
      ]
    },
    {
      "cell_type": "code",
      "source": [
        "logica = True\n",
        "type(logica) # bool -> binario -> (True = 1, 5volts), (False = 0, 0volts)"
      ],
      "metadata": {
        "colab": {
          "base_uri": "https://localhost:8080/"
        },
        "id": "3fTF4_2PkDVB",
        "outputId": "76c1cfb9-d23b-4e3c-da43-03bd7885bf59"
      },
      "execution_count": null,
      "outputs": [
        {
          "output_type": "execute_result",
          "data": {
            "text/plain": [
              "bool"
            ]
          },
          "metadata": {},
          "execution_count": 35
        }
      ]
    },
    {
      "cell_type": "code",
      "source": [
        "logica = False\n",
        "type(logica)"
      ],
      "metadata": {
        "colab": {
          "base_uri": "https://localhost:8080/"
        },
        "id": "3LyGkGm8k-Gr",
        "outputId": "10488932-4247-4843-fe08-4e1ca9a778fc"
      },
      "execution_count": null,
      "outputs": [
        {
          "output_type": "execute_result",
          "data": {
            "text/plain": [
              "bool"
            ]
          },
          "metadata": {},
          "execution_count": 34
        }
      ]
    },
    {
      "cell_type": "code",
      "source": [
        "num1= 10\n",
        "num2= 2"
      ],
      "metadata": {
        "id": "IjAeaLDHlydF"
      },
      "execution_count": null,
      "outputs": []
    },
    {
      "cell_type": "code",
      "source": [
        "5+11+(12*3)"
      ],
      "metadata": {
        "colab": {
          "base_uri": "https://localhost:8080/"
        },
        "id": "X43EMcG-mPjc",
        "outputId": "0f94622a-34cd-47ed-fd77-86af16c28b0e"
      },
      "execution_count": null,
      "outputs": [
        {
          "output_type": "execute_result",
          "data": {
            "text/plain": [
              "52"
            ]
          },
          "metadata": {},
          "execution_count": 42
        }
      ]
    },
    {
      "cell_type": "code",
      "source": [
        "num1+num2 # sumar"
      ],
      "metadata": {
        "colab": {
          "base_uri": "https://localhost:8080/"
        },
        "id": "d9y62_Unm3tJ",
        "outputId": "c3ff4e8f-69c3-4f9e-a40e-7699b46badff"
      },
      "execution_count": null,
      "outputs": [
        {
          "output_type": "execute_result",
          "data": {
            "text/plain": [
              "12"
            ]
          },
          "metadata": {},
          "execution_count": 41
        }
      ]
    },
    {
      "cell_type": "code",
      "source": [
        "num1-num2 #restar"
      ],
      "metadata": {
        "colab": {
          "base_uri": "https://localhost:8080/"
        },
        "id": "sp5avL-4nEum",
        "outputId": "c215a2ea-4408-4986-819c-0c66ff4a52a9"
      },
      "execution_count": null,
      "outputs": [
        {
          "output_type": "execute_result",
          "data": {
            "text/plain": [
              "8"
            ]
          },
          "metadata": {},
          "execution_count": 44
        }
      ]
    },
    {
      "cell_type": "code",
      "source": [
        "num1*num2 #multiplicacion o producto"
      ],
      "metadata": {
        "colab": {
          "base_uri": "https://localhost:8080/"
        },
        "id": "5fECu5j4nNv6",
        "outputId": "8cd54a85-bc0c-4387-b2a0-1832b3c27e63"
      },
      "execution_count": null,
      "outputs": [
        {
          "output_type": "execute_result",
          "data": {
            "text/plain": [
              "20"
            ]
          },
          "metadata": {},
          "execution_count": 47
        }
      ]
    },
    {
      "cell_type": "code",
      "source": [
        "num1/num2 #division, resultado es float"
      ],
      "metadata": {
        "colab": {
          "base_uri": "https://localhost:8080/"
        },
        "id": "rmPP6rvLnZuM",
        "outputId": "50155d26-af13-4005-84f2-dcd9254ebb4f"
      },
      "execution_count": null,
      "outputs": [
        {
          "output_type": "execute_result",
          "data": {
            "text/plain": [
              "5.0"
            ]
          },
          "metadata": {},
          "execution_count": 48
        }
      ]
    },
    {
      "cell_type": "code",
      "source": [
        "# // division entera\n",
        "# % modulo "
      ],
      "metadata": {
        "id": "EZUpZPf3np6P"
      },
      "execution_count": null,
      "outputs": []
    },
    {
      "cell_type": "code",
      "source": [
        "#aplicacion\n",
        "#el resultado de un input siempre es str. se tiene que cambiar str -> int\n",
        "print(\"Este programa multiplica dos números\")\n",
        "str_num1 = input (\"Escribe el primer número: \")\n",
        "str_num2 = input (\"Escribe el segundo número: \")\n",
        "\n",
        "#cambiar str a int \"cast -> Castear\"\n",
        "int_num1 = int(str_num1)\n",
        "int_num2= int(str_num2)\n",
        "\n",
        "#se hace la multiplicacion y se imprime el resultado con un msj\n",
        "resultado = int_num1*int_num2\n",
        "print(\"El resultado de\", int_num1,\"x\", int_num2,\"es:\", resultado)\n"
      ],
      "metadata": {
        "colab": {
          "base_uri": "https://localhost:8080/"
        },
        "id": "CJo2S4nurlvx",
        "outputId": "a734bb83-8b33-4908-9f45-61b35100b805"
      },
      "execution_count": null,
      "outputs": [
        {
          "output_type": "stream",
          "name": "stdout",
          "text": [
            "Este programa multiplica dos números\n",
            "Escribe el primer número: 10\n",
            "Escribe el segundo número: 2\n",
            "El resultado de 10 x 2 es: 20\n"
          ]
        }
      ]
    },
    {
      "cell_type": "code",
      "source": [
        "print(\"El resultado de \" + str(int_num1)) # para cambiar int a str y poder concatenar con +"
      ],
      "metadata": {
        "colab": {
          "base_uri": "https://localhost:8080/"
        },
        "id": "QVJ8avVXwsv9",
        "outputId": "2b300f34-7189-4b8d-a6ef-6759c42e3552"
      },
      "execution_count": null,
      "outputs": [
        {
          "output_type": "stream",
          "name": "stdout",
          "text": [
            "El resultado de 10\n"
          ]
        }
      ]
    },
    {
      "cell_type": "code",
      "source": [
        "#otra forma de imprimir mas elegante y/o sencilla\n",
        "print(\"El resultado de {} x {} es {}\".format(int_num1,int_num2,resultado)) "
      ],
      "metadata": {
        "colab": {
          "base_uri": "https://localhost:8080/"
        },
        "id": "eaD0FmeFx3lc",
        "outputId": "60332a61-7eae-4518-df10-ba6edab2e021"
      },
      "execution_count": null,
      "outputs": [
        {
          "output_type": "stream",
          "name": "stdout",
          "text": [
            "El resultado de 10 x 2 es 20\n"
          ]
        }
      ]
    },
    {
      "cell_type": "code",
      "source": [
        "#aplicacion_version2_reducida\n",
        "print(\"Este programa multiplica dos números\")\n",
        "num1 = int(input (\"Escribe el primer número: \"))\n",
        "num2 = int(input (\"Escribe el segundo número: \"))\n",
        "\n",
        "#se hace la multiplicacion y se imprime el resultado con un msj\n",
        "print(\"El resultado de {} x {} es {}\".format(num1,num2,num1*num2)) "
      ],
      "metadata": {
        "colab": {
          "base_uri": "https://localhost:8080/"
        },
        "id": "18uxaUUQzyXl",
        "outputId": "2e3fc872-ceb6-4ef9-da5e-ea31b920c48b"
      },
      "execution_count": null,
      "outputs": [
        {
          "output_type": "stream",
          "name": "stdout",
          "text": [
            "Este programa multiplica dos números\n",
            "Escribe el primer número: 10\n",
            "Escribe el segundo número: 2\n",
            "El resultado de 10 x 2 es 20\n"
          ]
        }
      ]
    },
    {
      "cell_type": "code",
      "source": [
        "#Selección \"if\", \"elif\" y \"else\"\n",
        "if 10>5:\n",
        "  print(\"verdadero\")\n",
        "else:\n",
        "  print(\"falso\")"
      ],
      "metadata": {
        "colab": {
          "base_uri": "https://localhost:8080/"
        },
        "id": "83rya7UR2-2L",
        "outputId": "78a03e00-6e3d-4a2e-ff8d-7f67c867e2b9"
      },
      "execution_count": null,
      "outputs": [
        {
          "output_type": "stream",
          "name": "stdout",
          "text": [
            "verdadero\n"
          ]
        }
      ]
    },
    {
      "cell_type": "code",
      "source": [
        "var = \"Miguel\"\n",
        "if var == \"Daniel\":\n",
        "  print(\"Eres Daniel\")\n",
        "  \n",
        "elif var== \"Miguel\":\n",
        "  print(\"Eres Miguel\")\n",
        "else:\n",
        "  print(\"No eres Daniel ni Miguel\")"
      ],
      "metadata": {
        "colab": {
          "base_uri": "https://localhost:8080/"
        },
        "id": "ZQ-z4ZMy3vlr",
        "outputId": "f9ab2bf1-0462-4bc5-82d9-3fffc9f18391"
      },
      "execution_count": null,
      "outputs": [
        {
          "output_type": "stream",
          "name": "stdout",
          "text": [
            "Eres Miguel\n"
          ]
        }
      ]
    },
    {
      "cell_type": "code",
      "source": [
        "#Calculadora\n",
        "print(\"Esta es una calculadora\")\n",
        "print(\"Elige una operacion del menu \")\n",
        "print(\"1. Sumar\")\n",
        "print(\"2. Restar\")\n",
        "print(\"3. Multiplicar\")\n",
        "print(\"4. Dividir\")\n",
        "\n",
        "resp = input (\"¿Qué quieres hacer? \")\n",
        "#resp = int(input (\"¿Qué quieres hacer? Elige el número de opción \"))\n",
        "num1 = float(input (\"Escribe el primer número: \"))\n",
        "num2 = float(input (\"Escribe el segundo número: \"))\n",
        "\n",
        "# pass -> pasar; es una palabra reservada que sig no hacer nada.\n",
        "#Selección \"if\", \"elif\" y \"else\"\n",
        "\n",
        "if resp == \"sumar\": #sumar\n",
        "  print(\"{} + {} = {}\".format(num1,num2,num1+num2))\n",
        "\n",
        "elif resp == \"restar\": #restar  \n",
        "  print(\"{} - {} = {}\".format(num1,num2,num1-num2))\n",
        "\n",
        "elif resp == \"multiplicar\": #multiplicar  \n",
        "  print(\"{} x {} = {}\".format(num1,num2,num1*num2))\n",
        "\n",
        "elif resp == \"dividir\": #dividir\n",
        "  print(\"{} / {} = {}\".format(num1,num2,num1/num2))\n",
        "\n",
        "else:\n",
        "  print(\"Comando no valida\")"
      ],
      "metadata": {
        "colab": {
          "base_uri": "https://localhost:8080/"
        },
        "id": "HNyM-7JL0sVb",
        "outputId": "5e37c42a-014b-4388-c4e9-d4ada4e395af"
      },
      "execution_count": null,
      "outputs": [
        {
          "output_type": "stream",
          "name": "stdout",
          "text": [
            "Esta es una calculadora\n",
            "Elige una operacion del menu \n",
            "1. Sumar\n",
            "2. Restar\n",
            "3. Multiplicar\n",
            "4. Dividir\n",
            "¿Qué quieres hacer? dividir\n",
            "Escribe el primer número: 10\n",
            "Escribe el segundo número: 2\n",
            "10.0 / 2.0 = 5.0\n"
          ]
        }
      ]
    },
    {
      "cell_type": "code",
      "source": [
        "num1=30\n",
        "num2=30\n",
        "\n",
        "if num1 == num2:\n",
        "  print(\"Son iguales\")\n",
        "elif num1>num2:\n",
        "  print(\"El primero es mayor\")\n",
        "elif num1<num2:\n",
        "  print(\"El segundo es mayor\")\n",
        "# else es opcional"
      ],
      "metadata": {
        "colab": {
          "base_uri": "https://localhost:8080/"
        },
        "id": "25ldgBnr2Jln",
        "outputId": "157e32a5-ccf0-4c52-d415-8259ea49ffb5"
      },
      "execution_count": null,
      "outputs": [
        {
          "output_type": "stream",
          "name": "stdout",
          "text": [
            "Son iguales\n"
          ]
        }
      ]
    },
    {
      "cell_type": "code",
      "source": [
        "num1=302\n",
        "num2=30\n",
        "\n",
        "if num1 != num2:\n",
        "  print(\"No son iguales\")\n",
        "else:\n",
        "  print(\"Son iguales\")"
      ],
      "metadata": {
        "colab": {
          "base_uri": "https://localhost:8080/"
        },
        "id": "P03_wErCA0ev",
        "outputId": "ed7cffe8-37c4-4128-edba-d379d32b7d26"
      },
      "execution_count": null,
      "outputs": [
        {
          "output_type": "stream",
          "name": "stdout",
          "text": [
            "No son iguales\n"
          ]
        }
      ]
    },
    {
      "cell_type": "code",
      "source": [
        "num1=10\n",
        "num2=10\n",
        "if num1!=num2:\n",
        "  print(\"Son diferentes\")\n",
        "elif num1 >= num2:\n",
        "  print(\"El primero es mayor o igual al segundo\")\n",
        "elif num1== num2:\n",
        "  print(\"Son iguales\")\n",
        "else:\n",
        "  print(\"ninguna condicion\")"
      ],
      "metadata": {
        "colab": {
          "base_uri": "https://localhost:8080/"
        },
        "id": "BWwmu4ptBII_",
        "outputId": "c0198d43-495e-41dc-9472-a17f5e8355e3"
      },
      "execution_count": null,
      "outputs": [
        {
          "output_type": "stream",
          "name": "stdout",
          "text": [
            "El primero es mayor o igual al segundo\n"
          ]
        }
      ]
    },
    {
      "cell_type": "code",
      "source": [
        "num1=10\n",
        "num2=10\n",
        "if num1!=num2:\n",
        "  print(\"Son diferentes\")\n",
        "if num1 >= num2:\n",
        "  print(\"El primero es mayor o igual al segundo\")\n",
        "if num1== num2:\n",
        "  print(\"Son iguales\")\n",
        "else:\n",
        "  print(\"ninguna condicion\")"
      ],
      "metadata": {
        "colab": {
          "base_uri": "https://localhost:8080/"
        },
        "id": "NmydNKL4DBTa",
        "outputId": "45dd4b23-d121-4603-b21d-c8ad153861df"
      },
      "execution_count": null,
      "outputs": [
        {
          "output_type": "stream",
          "name": "stdout",
          "text": [
            "El primero es mayor o igual al segundo\n",
            "Son iguales\n"
          ]
        }
      ]
    },
    {
      "cell_type": "code",
      "source": [
        "usuario_db=\"Miguel\"\n",
        "contra_db=\"qwerty\"\n",
        "print(\"Log in\")\n",
        "usuario_ingresado = input(\"Nombre de usuario: \")\n",
        "contra_ingresada = input(\"Contraseña: \")\n",
        "\n",
        "if usuario_ingresado == usuario_db:\n",
        "  print(\"Usuario encontrado\")\n",
        "  if contra_ingresada == contra_db:\n",
        "    print(\"Contraseña correcta\")\n",
        "    print(\"Entraste al sistema\")\n",
        "  else:\n",
        "    print(\"Contraseña incorrecta\")\n",
        "else:\n",
        "  print(\"Usuario no encontrado\")\n"
      ],
      "metadata": {
        "colab": {
          "base_uri": "https://localhost:8080/"
        },
        "id": "RGJR_ncLFiO3",
        "outputId": "9d71f47e-4960-46f8-9e81-e8ffab968bb1"
      },
      "execution_count": null,
      "outputs": [
        {
          "output_type": "stream",
          "name": "stdout",
          "text": [
            "Log in\n",
            "Nombre de usuario: Miguel\n",
            "Contraseña: qwerty\n",
            "Usuario encontrado\n",
            "Contraseña correcta\n",
            "Entraste al sistema\n"
          ]
        }
      ]
    },
    {
      "cell_type": "code",
      "source": [],
      "metadata": {
        "id": "2dZQ_d0AIL9y"
      },
      "execution_count": null,
      "outputs": []
    }
  ]
}